{
 "cells": [
  {
   "cell_type": "code",
   "execution_count": null,
   "metadata": {},
   "outputs": [],
   "source": [
    "import json\n",
    "with open('/workspace/ye/SFT/infer_result/131/SFT-llama2-test-dpo-set_greedy/Gsm8K/0.00%Acc.json',\"r\") as f:\n",
    "    data = json.load(f)"
   ]
  },
  {
   "cell_type": "code",
   "execution_count": null,
   "metadata": {},
   "outputs": [],
   "source": [
    "c=0\n",
    "for i in range(len(data)):\n",
    "    if data[i]['response'][0].split('#### ')[-1] == data[i]['answer'].split('#### ')[-1]:\n",
    "        c+=1\n",
    "c"
   ]
  },
  {
   "cell_type": "code",
   "execution_count": null,
   "metadata": {},
   "outputs": [],
   "source": []
  },
  {
   "cell_type": "markdown",
   "metadata": {},
   "source": [
    "## test model"
   ]
  },
  {
   "cell_type": "code",
   "execution_count": 5,
   "metadata": {},
   "outputs": [
    {
     "name": "stderr",
     "output_type": "stream",
     "text": [
      "Loading checkpoint shards:   0%|          | 0/3 [00:00<?, ?it/s]"
     ]
    },
    {
     "name": "stderr",
     "output_type": "stream",
     "text": [
      "Loading checkpoint shards: 100%|██████████| 3/3 [00:03<00:00,  1.16s/it]\n"
     ]
    }
   ],
   "source": [
    "from datasets import load_dataset\n",
    "from transformers import AutoTokenizer,AutoModel,LlamaForCausalLM\n",
    "model = LlamaForCausalLM.from_pretrained('/workspace/ye/DPO/checkpoint/llama2/goverment_6000step_res2que_wo_lora')\n",
    "tokenizer = AutoTokenizer.from_pretrained('/workspace/ye/DPO/checkpoint/llama2/goverment_6000step_res2que_wo_lora')"
   ]
  },
  {
   "cell_type": "code",
   "execution_count": 6,
   "metadata": {},
   "outputs": [],
   "source": [
    "data = load_dataset('/workspace/ye/DPO/Dataset/goverment_qa/',data_dir='finetune-que2res',split='test')"
   ]
  },
  {
   "cell_type": "code",
   "execution_count": 8,
   "metadata": {},
   "outputs": [
    {
     "name": "stderr",
     "output_type": "stream",
     "text": [
      " 10%|█         | 1/10 [00:01<00:10,  1.19s/it]"
     ]
    },
    {
     "name": "stdout",
     "output_type": "stream",
     "text": [
      "企业进行境外投资适用税收优惠有什么特殊的注意事项？'</s>\n"
     ]
    },
    {
     "name": "stderr",
     "output_type": "stream",
     "text": [
      " 20%|██        | 2/10 [00:02<00:07,  1.03it/s]"
     ]
    },
    {
     "name": "stdout",
     "output_type": "stream",
     "text": [
      "境外投资与经营纳税服务如何实施？'</s>\n"
     ]
    },
    {
     "name": "stderr",
     "output_type": "stream",
     "text": [
      " 30%|███       | 3/10 [00:03<00:10,  1.44s/it]"
     ]
    },
    {
     "name": "stdout",
     "output_type": "stream",
     "text": [
      "为不刺激商业性投资进境，海南境外投资项目不享受增值税即征即退至何时过去企业申请？'</s>\n"
     ]
    },
    {
     "name": "stderr",
     "output_type": "stream",
     "text": [
      " 40%|████      | 4/10 [00:04<00:07,  1.25s/it]"
     ]
    },
    {
     "name": "stdout",
     "output_type": "stream",
     "text": [
      "税务机关对我国企业境外投资和经营有何优惠?'</s>\n"
     ]
    },
    {
     "name": "stderr",
     "output_type": "stream",
     "text": [
      " 50%|█████     | 5/10 [00:05<00:04,  1.03it/s]"
     ]
    },
    {
     "name": "stdout",
     "output_type": "stream",
     "text": [
      "对外投资需要什么条件?'</s>\n"
     ]
    },
    {
     "name": "stderr",
     "output_type": "stream",
     "text": [
      " 60%|██████    | 6/10 [00:06<00:04,  1.12s/it]"
     ]
    },
    {
     "name": "stdout",
     "output_type": "stream",
     "text": [
      "企业跨境经营涉及企业所得税报备如何规范，什么服务可供选用？'</s>\n"
     ]
    },
    {
     "name": "stderr",
     "output_type": "stream",
     "text": [
      " 70%|███████   | 7/10 [00:11<00:06,  2.24s/it]"
     ]
    },
    {
     "name": "stdout",
     "output_type": "stream",
     "text": [
      "中国海关律师网：您好，我企业欲境外投资，想咨询一方面关于跨境外资的投资问题，一方面对于跨境外资企业的设立和工商问题。希望能得到您的解答。\n",
      " 问题1：我公司如果以现金形式从国内投资到国外，是否可行，如何办理？\n",
      "问题2：若通过以投资方式入股，需经过什么程序？'</s>\n"
     ]
    },
    {
     "name": "stderr",
     "output_type": "stream",
     "text": [
      " 80%|████████  | 8/10 [00:12<00:03,  1.77s/it]"
     ]
    },
    {
     "name": "stdout",
     "output_type": "stream",
     "text": [
      "我国企业境外投资的税收优惠'</s>\n"
     ]
    },
    {
     "name": "stderr",
     "output_type": "stream",
     "text": [
      " 90%|█████████ | 9/10 [00:13<00:01,  1.76s/it]"
     ]
    },
    {
     "name": "stdout",
     "output_type": "stream",
     "text": [
      "鼓励支持外资境内投资企业采用简易计税以及外贸企业核算方式有什么具体要求？'</s>\n"
     ]
    },
    {
     "name": "stderr",
     "output_type": "stream",
     "text": [
      "100%|██████████| 10/10 [00:14<00:00,  1.48s/it]"
     ]
    },
    {
     "name": "stdout",
     "output_type": "stream",
     "text": [
      "企业境外投资或经营备案可以报关吗？'</s>\n"
     ]
    },
    {
     "name": "stderr",
     "output_type": "stream",
     "text": [
      "\n"
     ]
    }
   ],
   "source": [
    "from tqdm import tqdm\n",
    "model.half()\n",
    "model.to('cuda:0')\n",
    "for i in tqdm(range(10)):\n",
    "    inputs = tokenizer.batch_encode_plus([\"Question:\"+'部门配合,主动协调。各地税务机关要主动联系商务、发改委等部门,加强部门协调和沟通,实现信息共享,建立有效联动机制,将税收服务与管理结合起来,更好地促进我国企业境外投资与经营。'+'\\n\\nAnswer:'], return_tensors=\"pt\",padding=True).to('cuda:0')\n",
    "    outputs = model.generate(**inputs,max_new_tokens=1024,do_sample=True,eos_token_id=2)\n",
    "    response = tokenizer.decode(outputs[0].tolist()[len(inputs['input_ids'][0]):])\n",
    "    print(response)"
   ]
  },
  {
   "cell_type": "code",
   "execution_count": null,
   "metadata": {},
   "outputs": [],
   "source": [
    "from datasets import load_dataset\n",
    "from transformers import AutoTokenizer,AutoModel,LlamaForCausalLM\n",
    "model = LlamaForCausalLM.from_pretrained('/workspace/ye/DPO/checkpoint/llama2/goverment_6000step_res2que')\n",
    "tokenizer = AutoTokenizer.from_pretrained('/workspace/ye/DPO/checkpoint/llama2/goverment_6000step_res2que')\n",
    "data = load_dataset('/workspace/ye/DPO/Dataset/goverment_qa/',data_dir='finetune-res2que',split='test')\n",
    "from tqdm import tqdm\n",
    "model.half()\n",
    "model.to('cuda:1')\n",
    "for i in tqdm(range(10)):\n",
    "    inputs = tokenizer.batch_encode_plus([\"Question:\"+data['question'][i]+'\\n\\nAnswer:'], return_tensors=\"pt\",padding=True).to('cuda:1')\n",
    "    outputs = model.generate(**inputs,max_new_tokens=1024,do_sample=True,eos_token_id=2)\n",
    "    response = tokenizer.decode(outputs[0].tolist()[len(inputs['input_ids'][0]):])\n",
    "    print(response)"
   ]
  },
  {
   "cell_type": "code",
   "execution_count": null,
   "metadata": {},
   "outputs": [],
   "source": [
    "inputs = tokenizer.batch_encode_plus([\"Question:\"+ \"部门配合,主动协调。各地税务机关要主动联系商务、发改委等部门,加强部门协调和沟通,实现信息共享,建立有效联动机制,将税收服务与管理结合起来,更好地促进我国企业境外投资与经营。\"+'\\n\\nAnswer:'], return_tensors=\"pt\",padding=True).to('cuda:1')\n",
    "outputs = model.generate(**inputs,max_new_tokens=1024,do_sample=True,eos_token_id=2)\n",
    "response = tokenizer.decode(outputs[0].tolist()[len(inputs['input_ids'][0]):])\n",
    "print(response)"
   ]
  }
 ],
 "metadata": {
  "kernelspec": {
   "display_name": "Python 3 (ipykernel)",
   "language": "python",
   "name": "python3"
  },
  "language_info": {
   "codemirror_mode": {
    "name": "ipython",
    "version": 3
   },
   "file_extension": ".py",
   "mimetype": "text/x-python",
   "name": "python",
   "nbconvert_exporter": "python",
   "pygments_lexer": "ipython3",
   "version": "3.10.12"
  }
 },
 "nbformat": 4,
 "nbformat_minor": 2
}
