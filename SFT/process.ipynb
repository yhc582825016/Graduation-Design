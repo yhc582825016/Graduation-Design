{
 "cells": [
  {
   "cell_type": "code",
   "execution_count": 5,
   "metadata": {},
   "outputs": [],
   "source": [
    "import json\n",
    "with open('/workspace/ye/SFT/infer_result/208/Gsm8k-test-set-r1-dpo-v2-300step-checkpoint200-1e6/Gsm8K/0.00%Acc.json',\"r\") as f:\n",
    "    data = json.load(f)"
   ]
  },
  {
   "cell_type": "code",
   "execution_count": 6,
   "metadata": {},
   "outputs": [
    {
     "data": {
      "text/plain": [
       "0.2623199393479909"
      ]
     },
     "execution_count": 6,
     "metadata": {},
     "output_type": "execute_result"
    }
   ],
   "source": [
    "data\n",
    "c= 0\n",
    "for i in data:\n",
    "    if i['response'][0].split('#### ')[-1].replace(\" '\",\"\").replace(',','') == i['answer'].split('#### ')[-1].replace(\" '\",\"\"):\n",
    "        c+=1\n",
    "    else:\n",
    "        # print(i['response'][0].split('#### ')[-1].replace(\" '\",\"\") ,i['answer'].split('#### ')[-1].replace(\" '\",\"\"))\n",
    "        pass\n",
    "c/1319"
   ]
  },
  {
   "cell_type": "code",
   "execution_count": 3,
   "metadata": {},
   "outputs": [
    {
     "data": {
      "text/plain": [
       "449"
      ]
     },
     "execution_count": 3,
     "metadata": {},
     "output_type": "execute_result"
    }
   ],
   "source": [
    "c"
   ]
  },
  {
   "cell_type": "markdown",
   "metadata": {},
   "source": [
    "## dataprocess"
   ]
  },
  {
   "cell_type": "code",
   "execution_count": 80,
   "metadata": {},
   "outputs": [],
   "source": [
    "import json\n",
    "with open('/workpace/ye/SFT/infer_result/207/gsm8k-train-set.jsonl',\"r\") as f:\n",
    "    data = json.load(f)\n",
    "pred = []\n",
    "for i in range(len(data)):\n",
    "    for j in range(len(data[i]['response'])):\n",
    "        if data[i]['response'][j].split('<endoftext>')[0].split('#### ')[-1] != data[i]['answer'].split('\\n#### ')[-1]:\n",
    "            # data[i]['response'] =  data[i]['response'][j].split('<endoftext>')[0]\n",
    "            pred.append({\n",
    "                'question':data[i]['question'],\n",
    "                'answer':data[i]['answer'],\n",
    "                'response':data[i]['response'][j].strip(\"<endoftext> '</s>\")\n",
    "            })\n",
    "            break\n",
    "import json\n",
    "import pandas as pd\n",
    "question = []\n",
    "answer = []\n",
    "reject = []\n",
    "for i in pred:\n",
    "    question.append(i['question'])\n",
    "    answer.append(i['answer'])\n",
    "    reject.append(i['response'])\n",
    "df = pd.DataFrame({'question':question, 'response_j': answer,'response_k':reject})\n",
    "df.to_parquet('/workpace/ye/DPO/Gsm8K-207/evaluation/Gsm8K-train-set.parquet')"
   ]
  }
 ],
 "metadata": {
  "kernelspec": {
   "display_name": "Python 3 (ipykernel)",
   "language": "python",
   "name": "python3"
  },
  "language_info": {
   "codemirror_mode": {
    "name": "ipython",
    "version": 3
   },
   "file_extension": ".py",
   "mimetype": "text/x-python",
   "name": "python",
   "nbconvert_exporter": "python",
   "pygments_lexer": "ipython3",
   "version": "3.10.12"
  }
 },
 "nbformat": 4,
 "nbformat_minor": 2
}
