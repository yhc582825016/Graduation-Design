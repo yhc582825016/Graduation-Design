{
 "cells": [
  {
   "cell_type": "code",
   "execution_count": 1,
   "metadata": {},
   "outputs": [],
   "source": [
    "import json\n",
    "with open('/workspace/ye/math-shepherd.jsonl',\"r\") as f:\n",
    "    data = [json.loads(i) for i in f.readlines()]"
   ]
  },
  {
   "cell_type": "code",
   "execution_count": 4,
   "metadata": {},
   "outputs": [
    {
     "name": "stdout",
     "output_type": "stream",
     "text": [
      "Janet pays $40/hour for 3 hours per week of clarinet lessons and $28/hour for 5 hours a week of piano lessons. How much more does she spend on piano lessons than clarinet lessons in a year? Step 1: Janet spends 3 hours + 5 hours = <<3+5=8>>8 hours per week on music lessons. +\n",
      "Step 2: She spends 40 * 3 = <<40*3=120>>120 on clarinet lessons per week. +\n",
      "Step 3: She spends 28 * 5 = <<28*5=140>>140 on piano lessons per week. +\n",
      "Step 4: Janet spends 120 + 140 = <<120+140=260>>260 on music lessons per week. +\n",
      "Step 5: She spends 260 * 52 = <<260*52=13520>>13520 on music lessons in a year. The answer is: 13520 -\n"
     ]
    }
   ],
   "source": [
    "print(data[0]['label'])"
   ]
  },
  {
   "cell_type": "code",
   "execution_count": 3,
   "metadata": {},
   "outputs": [],
   "source": [
    "with open('/workspace/ye/SFT/dataset/Gsm8k/test.jsonl',\"r\") as f:\n",
    "    test_data = [json.loads(i) for i in f.readlines()]"
   ]
  },
  {
   "cell_type": "code",
   "execution_count": 4,
   "metadata": {},
   "outputs": [],
   "source": [
    "with open('/workspace/ye/SFT/dataset/Gsm8k/train.jsonl',\"r\") as f:\n",
    "    train_data = [json.loads(i) for i in f.readlines()]"
   ]
  },
  {
   "cell_type": "code",
   "execution_count": 5,
   "metadata": {},
   "outputs": [],
   "source": [
    "question_test_pool = [i['question'] for i in test_data]\n",
    "question_train_pool = [i['question'] for i in train_data]"
   ]
  },
  {
   "cell_type": "code",
   "execution_count": 6,
   "metadata": {},
   "outputs": [],
   "source": [
    "save_data = []\n",
    "save_train_data=[]\n",
    "c=0\n",
    "all_ques=[]\n",
    "for idx in range(len(data)):\n",
    "    text=data[idx]['label']\n",
    "    try:\n",
    "        question,steps =text.split(\"Step 1\",1)\n",
    "    except:\n",
    "        c+=1\n",
    "        pass\n",
    "    step_ = steps.split(\"\\n\")\n",
    "    \n",
    "    label = [i.split(' ')[-1] for i in step_]\n",
    "    step_ = [i.strip(\" +\").strip(\" -\") for i in step_]\n",
    "    step_[0]='Step 1'+step_[0].strip(\" +\").strip(\" -\")\n",
    "    label_=[]\n",
    "    for i in label:\n",
    "        if '+' in i:\n",
    "            label_.append('+')\n",
    "        else:\n",
    "            label_.append(\"-\")\n",
    "    all_ques.append(question.strip(\" \"))\n",
    "    if '-' not in label_:\n",
    "        all_true=True\n",
    "        save_train_data.append({\n",
    "        \"question\": question.strip(\" \"),\n",
    "        'answer':\"/n\".join(step_),\n",
    "        \"steps\": step_,\n",
    "        'label':label_,\n",
    "        'all_true':all_true,\n",
    "        'task':data[idx]['task']\n",
    "        })\n",
    "    else:\n",
    "        all_true=False\n",
    "    output = {\n",
    "        \"question\": question.strip(\" \"),\n",
    "        \"steps\": step_,\n",
    "        'label':label_,\n",
    "        'all_true':all_true,\n",
    "        'task':data[idx]['task']\n",
    "    }\n",
    "    save_data.append(output)"
   ]
  },
  {
   "cell_type": "code",
   "execution_count": 86,
   "metadata": {},
   "outputs": [
    {
     "data": {
      "text/plain": [
       "135104"
      ]
     },
     "execution_count": 86,
     "metadata": {},
     "output_type": "execute_result"
    }
   ],
   "source": [
    "len(save_train_data)"
   ]
  },
  {
   "cell_type": "code",
   "execution_count": 9,
   "metadata": {},
   "outputs": [],
   "source": [
    "import random\n",
    "random.shuffle(save_train_data)"
   ]
  },
  {
   "cell_type": "code",
   "execution_count": 10,
   "metadata": {},
   "outputs": [],
   "source": [
    "import json\n",
    "with open('/workspace/ye/MATH/dataset/SHEPHERD_train.json',\"w\",encoding='utf-8') as f:\n",
    "    json.dump(save_train_data[:-1000],f,ensure_ascii=False,indent=4)"
   ]
  },
  {
   "cell_type": "code",
   "execution_count": 11,
   "metadata": {},
   "outputs": [],
   "source": [
    "with open('/workspace/ye/MATH/dataset/SHEPHERD_test.json',\"w\",encoding='utf-8') as f:\n",
    "    json.dump(save_train_data[-1000:],f,ensure_ascii=False,indent=4)"
   ]
  },
  {
   "cell_type": "code",
   "execution_count": 91,
   "metadata": {},
   "outputs": [
    {
     "data": {
      "text/plain": [
       "{'question': \"Ron's baseball team scored 270 points in the year. There are 9 players on the team. If 5 of them averaged 50 points each, how many points did the remainder average?\",\n",
       " 'answer': \"Ron's baseball team scored 270 points in the year. There are 9 players on the team. If 5 of them averaged 50 points each, how many points did the remainder average? Step 1: The 5 players scored 50*5=<<5*50=250>>250 points./nStep 2: The rest of the team scored 270-250=<<270-250=20>>20 points./nStep 3: The 4 remaining players scored 20/4=<<20/4=5>>5 points each. The answer is: 5\",\n",
       " 'steps': ['Step 1: The 5 players scored 50*5=<<5*50=250>>250 points.',\n",
       "  'Step 2: The rest of the team scored 270-250=<<270-250=20>>20 points.',\n",
       "  'Step 3: The 4 remaining players scored 20/4=<<20/4=5>>5 points each. The answer is: 5'],\n",
       " 'label': ['+', '+', '+'],\n",
       " 'all_true': True,\n",
       " 'task': 'GSM8K'}"
      ]
     },
     "execution_count": 91,
     "metadata": {},
     "output_type": "execute_result"
    }
   ],
   "source": [
    "save_train_data[1]"
   ]
  },
  {
   "cell_type": "code",
   "execution_count": 87,
   "metadata": {},
   "outputs": [],
   "source": [
    "c=0\n",
    "for i in range(len(question_train_pool)):\n",
    "    if question_train_pool[i] in all_ques:\n",
    "        c+=1"
   ]
  },
  {
   "cell_type": "code",
   "execution_count": 88,
   "metadata": {},
   "outputs": [
    {
     "data": {
      "text/plain": [
       "7470"
      ]
     },
     "execution_count": 88,
     "metadata": {},
     "output_type": "execute_result"
    }
   ],
   "source": [
    "c"
   ]
  },
  {
   "cell_type": "markdown",
   "metadata": {},
   "source": [
    "## Process Meta Math QA "
   ]
  },
  {
   "cell_type": "code",
   "execution_count": 1,
   "metadata": {},
   "outputs": [],
   "source": [
    "import json\n",
    "with open('/workspace/ye/MetaMathQA-395K.json',\"r\") as f:\n",
    "    data = [json.loads(i) for i in f.readlines()]"
   ]
  },
  {
   "cell_type": "code",
   "execution_count": 2,
   "metadata": {},
   "outputs": [],
   "source": [
    "for idx in range(len(data[0])):\n",
    "    step = data[0][idx]['response'].split('\\n')\n",
    "    res = ''\n",
    "    for i in range(len(data[0][idx]['response'].split('\\n'))):\n",
    "        res+=data[0][idx]['response'].split('\\n')[i] + '</s>'\n",
    "    data[0][idx]['answer']=res\n",
    "    data[0][idx]['question']=data[0][idx]['query']\n",
    "    del data[0][idx]['query']"
   ]
  },
  {
   "cell_type": "code",
   "execution_count": 13,
   "metadata": {},
   "outputs": [],
   "source": [
    "with open('/workspace/ye/MATH/dataset/MeraMath_test.json',\"w\",encoding='utf-8') as f:\n",
    "    json.dump(data[0][-1000:],f,ensure_ascii=False,indent=4)\n",
    "with open('/workspace/ye/MATH/dataset/MeraMath_train.json',\"w\",encoding='utf-8') as f:\n",
    "    json.dump(data[0][:-1000],f,ensure_ascii=False,indent=4)"
   ]
  },
  {
   "cell_type": "code",
   "execution_count": 14,
   "metadata": {},
   "outputs": [],
   "source": [
    "with open('/workspace/ye/MATH/dataset/MeraMath_test.json',\"r\") as f:\n",
    "    data = json.load(f)"
   ]
  },
  {
   "cell_type": "code",
   "execution_count": 15,
   "metadata": {},
   "outputs": [
    {
     "data": {
      "text/plain": [
       "{'response': 'We are given that the center of square ABCD is at (8,-8) and the area of the square is 4 square units.<s>The top side of the square is horizontal, which means the side length of the square is 2 units.<s>To find the coordinates of the vertex of the image of square ABCD that is farthest from the origin after dilation, we need to determine the scale factor, X.<s>The area of a square is equal to the side length squared, so we can find the side length of the image square by taking the square root of the area:<s>Side length of image square = √(4 * X^2)<s>Given that the side length of the image square is 2 * X units, we can write:<s>2 * X = √(4 * X^2)<s>Squaring both sides of the equation to eliminate the square root, we get:<s>4 * X^2 = 4 * X^2<s>This equation holds true for any value of X, which means X can be any real number.<s>Therefore, the value of unknown variable X can be any real number.<s>The answer is: 2<s>',\n",
       " 'type': 'MATH_FOBAR',\n",
       " 'original_question': 'Square ABCD has its center at $(8,-8)$ and has an area of 4 square units. The top side of the square is horizontal. The square is then dilated with the dilation center at (0,0) and a scale factor of 2. What are the coordinates of the vertex of the image of square ABCD that is farthest from the origin? Give your answer as an ordered pair.',\n",
       " 'question': 'Square ABCD has its center at $(8,-8)$ and has an area of 4 square units. The top side of the square is horizontal. The square is then dilated with the dilation center at (0,0) and a scale factor of X. What are the coordinates of the vertex of the image of square ABCD that is farthest from the origin? Give your answer as an ordered pair.\\nIf we know the answer to the above question is (18,-18), what is the value of unknown variable X?'}"
      ]
     },
     "execution_count": 15,
     "metadata": {},
     "output_type": "execute_result"
    }
   ],
   "source": [
    "data[0]"
   ]
  }
 ],
 "metadata": {
  "kernelspec": {
   "display_name": "Python 3",
   "language": "python",
   "name": "python3"
  },
  "language_info": {
   "codemirror_mode": {
    "name": "ipython",
    "version": 3
   },
   "file_extension": ".py",
   "mimetype": "text/x-python",
   "name": "python",
   "nbconvert_exporter": "python",
   "pygments_lexer": "ipython3",
   "version": "3.10.12"
  }
 },
 "nbformat": 4,
 "nbformat_minor": 2
}
